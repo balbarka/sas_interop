{
 "cells": [
  {
   "cell_type": "markdown",
   "metadata": {
    "application/vnd.databricks.v1+cell": {
     "cellMetadata": {},
     "inputWidgets": {},
     "nuid": "eed81a2d-0c0e-466b-b631-615b9a29c032",
     "showTitle": false,
     "title": ""
    }
   },
   "source": [
    "In progress work on getting a working JDBC connection to Databricks. Not yet working. Regardless, when connecting from jupyter to databricks, we recommend databricks-sql-connect."
   ]
  },
  {
   "cell_type": "code",
   "execution_count": 0,
   "metadata": {
    "application/vnd.databricks.v1+cell": {
     "cellMetadata": {},
     "inputWidgets": {},
     "nuid": "a369daa1-9ae7-492d-b02e-ec36486316bb",
     "showTitle": false,
     "title": ""
    }
   },
   "outputs": [],
   "source": [
    "!pwd"
   ]
  },
  {
   "cell_type": "code",
   "execution_count": 0,
   "metadata": {
    "application/vnd.databricks.v1+cell": {
     "cellMetadata": {},
     "inputWidgets": {},
     "nuid": "e2c839e3-d666-4131-bc64-4a41832b0dbd",
     "showTitle": false,
     "title": ""
    }
   },
   "outputs": [],
   "source": [
    "%pip install JayDeBeApi"
   ]
  },
  {
   "cell_type": "code",
   "execution_count": 0,
   "metadata": {
    "application/vnd.databricks.v1+cell": {
     "cellMetadata": {},
     "inputWidgets": {},
     "nuid": "f71586f0-41a1-4306-9346-2ba6608f0a48",
     "showTitle": false,
     "title": ""
    }
   },
   "outputs": [],
   "source": [
    "import jaydebeapi"
   ]
  },
  {
   "cell_type": "code",
   "execution_count": 0,
   "metadata": {
    "application/vnd.databricks.v1+cell": {
     "cellMetadata": {},
     "inputWidgets": {},
     "nuid": "f6b7861f-b69c-4025-bd84-5a09f3591edd",
     "showTitle": false,
     "title": ""
    }
   },
   "outputs": [],
   "source": [
    "?jaydebeapi.connect"
   ]
  },
  {
   "cell_type": "code",
   "execution_count": 0,
   "metadata": {
    "application/vnd.databricks.v1+cell": {
     "cellMetadata": {},
     "inputWidgets": {},
     "nuid": "f45b084e-7ce5-4dbb-9318-f9f3314c8c39",
     "showTitle": false,
     "title": ""
    }
   },
   "outputs": [],
   "source": [
    "import jaydebeapi\n",
    "conn = jaydebeapi.connect(\"org.hsqldb.jdbcDriver\",\n",
    "                           \"jdbc:hsqldb:mem:.\",\n",
    "                           [\"SA\", \"\"],\n",
    "                           \"/path/to/hsqldb.jar\",)"
   ]
  },
  {
   "cell_type": "code",
   "execution_count": 0,
   "metadata": {
    "application/vnd.databricks.v1+cell": {
     "cellMetadata": {},
     "inputWidgets": {},
     "nuid": "31fa00be-2963-458f-9f47-2a1f7832698c",
     "showTitle": false,
     "title": ""
    }
   },
   "outputs": [],
   "source": [
    "\n",
    ">>> curs = conn.cursor()\n",
    ">>> curs.execute('create table CUSTOMER'\n",
    "...              '(\"CUST_ID\" INTEGER not null,'\n",
    "...              ' \"NAME\" VARCHAR(50) not null,'\n",
    "...              ' primary key (\"CUST_ID\"))'\n",
    "...             )\n",
    ">>> curs.execute(\"insert into CUSTOMER values (1, 'John')\")\n",
    ">>> curs.execute(\"select * from CUSTOMER\")\n",
    ">>> curs.fetchall()\n",
    "[(1, u'John')]\n",
    ">>> curs.close()\n",
    ">>> conn.close()"
   ]
  }
 ],
 "metadata": {
  "application/vnd.databricks.v1+notebook": {
   "dashboards": [],
   "language": "python",
   "notebookMetadata": {
    "pythonIndentUnit": 4
   },
   "notebookName": "02-jdbc",
   "widgets": {}
  },
  "kernelspec": {
   "display_name": "Python 3 (ipykernel)",
   "language": "python",
   "name": "python3"
  },
  "language_info": {
   "codemirror_mode": {
    "name": "ipython",
    "version": 3
   },
   "file_extension": ".py",
   "mimetype": "text/x-python",
   "name": "python",
   "nbconvert_exporter": "python",
   "pygments_lexer": "ipython3",
   "version": "3.9.7"
  }
 },
 "nbformat": 4,
 "nbformat_minor": 0
}
