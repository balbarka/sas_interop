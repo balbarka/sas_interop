{
 "cells": [
  {
   "cell_type": "markdown",
   "id": "78f483e4-e966-4219-9b08-d56e9dc49359",
   "metadata": {},
   "source": [
    "In progress work on getting a working JDBC connection to Databricks. Not yet working. Regardless, when connecting from jupyter to databricks, we recommend databricks-sql-connect.\n"
   ]
  },
  {
   "cell_type": "code",
   "execution_count": 4,
   "id": "0f392fd5-8a6e-49d8-af9c-2b38c8babc3f",
   "metadata": {},
   "outputs": [
    {
     "name": "stdout",
     "output_type": "stream",
     "text": [
      "/home/jovyan/data/repos/sas_interop/nb\n"
     ]
    }
   ],
   "source": [
    "!pwd"
   ]
  },
  {
   "cell_type": "code",
   "execution_count": 1,
   "id": "5004e043-61df-4391-81bb-dd3ac4aa100d",
   "metadata": {},
   "outputs": [
    {
     "name": "stdout",
     "output_type": "stream",
     "text": [
      "Collecting JayDeBeApi\n",
      "  Downloading JayDeBeApi-1.2.3-py3-none-any.whl (26 kB)\n",
      "Collecting JPype1\n",
      "  Downloading JPype1-1.4.1-cp39-cp39-manylinux_2_12_x86_64.manylinux2010_x86_64.whl (465 kB)\n",
      "     |████████████████████████████████| 465 kB 20.0 MB/s            \n",
      "\u001b[?25hRequirement already satisfied: packaging in /opt/conda/lib/python3.9/site-packages (from JPype1->JayDeBeApi) (21.3)\n",
      "Requirement already satisfied: pyparsing!=3.0.5,>=2.0.2 in /opt/conda/lib/python3.9/site-packages (from packaging->JPype1->JayDeBeApi) (2.4.7)\n",
      "Installing collected packages: JPype1, JayDeBeApi\n",
      "Successfully installed JPype1-1.4.1 JayDeBeApi-1.2.3\n",
      "Note: you may need to restart the kernel to use updated packages.\n"
     ]
    }
   ],
   "source": [
    "%pip install JayDeBeApi"
   ]
  },
  {
   "cell_type": "code",
   "execution_count": 2,
   "id": "47b093a5-f57d-44b4-87e8-6230c4014bd0",
   "metadata": {},
   "outputs": [],
   "source": [
    "import jaydebeapi"
   ]
  },
  {
   "cell_type": "code",
   "execution_count": 3,
   "id": "19f65b73-6315-42d0-935e-9dd2d112b54a",
   "metadata": {},
   "outputs": [
    {
     "data": {
      "text/plain": [
       "\u001b[0;31mSignature:\u001b[0m \u001b[0mjaydebeapi\u001b[0m\u001b[0;34m.\u001b[0m\u001b[0mconnect\u001b[0m\u001b[0;34m(\u001b[0m\u001b[0mjclassname\u001b[0m\u001b[0;34m,\u001b[0m \u001b[0murl\u001b[0m\u001b[0;34m,\u001b[0m \u001b[0mdriver_args\u001b[0m\u001b[0;34m=\u001b[0m\u001b[0;32mNone\u001b[0m\u001b[0;34m,\u001b[0m \u001b[0mjars\u001b[0m\u001b[0;34m=\u001b[0m\u001b[0;32mNone\u001b[0m\u001b[0;34m,\u001b[0m \u001b[0mlibs\u001b[0m\u001b[0;34m=\u001b[0m\u001b[0;32mNone\u001b[0m\u001b[0;34m)\u001b[0m\u001b[0;34m\u001b[0m\u001b[0;34m\u001b[0m\u001b[0m\n",
       "\u001b[0;31mDocstring:\u001b[0m\n",
       "Open a connection to a database using a JDBC driver and return\n",
       "a Connection instance.\n",
       "\n",
       "jclassname: Full qualified Java class name of the JDBC driver.\n",
       "url: Database url as required by the JDBC driver.\n",
       "driver_args: Dictionary or sequence of arguments to be passed to\n",
       "       the Java DriverManager.getConnection method. Usually\n",
       "       sequence of username and password for the db. Alternatively\n",
       "       a dictionary of connection arguments (where `user` and\n",
       "       `password` would probably be included). See\n",
       "       http://docs.oracle.com/javase/7/docs/api/java/sql/DriverManager.html\n",
       "       for more details\n",
       "jars: Jar filename or sequence of filenames for the JDBC driver\n",
       "libs: Dll/so filenames or sequence of dlls/sos used as shared\n",
       "      library by the JDBC driver\n",
       "\u001b[0;31mFile:\u001b[0m      /opt/conda/lib/python3.9/site-packages/jaydebeapi/__init__.py\n",
       "\u001b[0;31mType:\u001b[0m      function\n"
      ]
     },
     "metadata": {},
     "output_type": "display_data"
    }
   ],
   "source": [
    "?jaydebeapi.connect"
   ]
  },
  {
   "cell_type": "code",
   "execution_count": null,
   "id": "415ede94-c9bd-4c7b-92aa-3543e91d1a3e",
   "metadata": {},
   "outputs": [],
   "source": [
    "import jaydebeapi\n",
    "conn = jaydebeapi.connect(\"org.hsqldb.jdbcDriver\",\n",
    "                           \"jdbc:hsqldb:mem:.\",\n",
    "                           [\"SA\", \"\"],\n",
    "                           \"/path/to/hsqldb.jar\",)"
   ]
  },
  {
   "cell_type": "code",
   "execution_count": null,
   "id": "c3429a44-c46b-43e4-bda5-043b2f93481d",
   "metadata": {},
   "outputs": [],
   "source": [
    "\n",
    ">>> curs = conn.cursor()\n",
    ">>> curs.execute('create table CUSTOMER'\n",
    "...              '(\"CUST_ID\" INTEGER not null,'\n",
    "...              ' \"NAME\" VARCHAR(50) not null,'\n",
    "...              ' primary key (\"CUST_ID\"))'\n",
    "...             )\n",
    ">>> curs.execute(\"insert into CUSTOMER values (1, 'John')\")\n",
    ">>> curs.execute(\"select * from CUSTOMER\")\n",
    ">>> curs.fetchall()\n",
    "[(1, u'John')]\n",
    ">>> curs.close()\n",
    ">>> conn.close()"
   ]
  }
 ],
 "metadata": {
  "kernelspec": {
   "display_name": "Python 3 (ipykernel)",
   "language": "python",
   "name": "python3"
  },
  "language_info": {
   "codemirror_mode": {
    "name": "ipython",
    "version": 3
   },
   "file_extension": ".py",
   "mimetype": "text/x-python",
   "name": "python",
   "nbconvert_exporter": "python",
   "pygments_lexer": "ipython3",
   "version": "3.9.7"
  }
 },
 "nbformat": 4,
 "nbformat_minor": 5
}
