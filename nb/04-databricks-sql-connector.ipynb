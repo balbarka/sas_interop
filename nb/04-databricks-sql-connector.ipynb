{
 "cells": [
  {
   "cell_type": "markdown",
   "id": "381acddc-e25d-4383-b55e-72b56af8a33b",
   "metadata": {},
   "source": [
    "TODO: Write example connecitng to databricks using databricks-sql-connect. However, we will want to not expose credentials in jupyteroutput cells. We can do this by either modifying the environment variables in .bashrc or we can write them explicitly in default startup. To be consistant with Databricks https://github.com/databricks/databricks-sql-python documentation we'll create demo to read from environment variable."
   ]
  },
  {
   "cell_type": "code",
   "execution_count": 11,
   "id": "70ac41f7-85cc-4552-ae8a-55d5cf0168f0",
   "metadata": {},
   "outputs": [],
   "source": [
    "!echo \"x=10\" > ~/.ipython/profile_default/startup/01_xtest.py"
   ]
  },
  {
   "cell_type": "code",
   "execution_count": 13,
   "id": "382710cd-6dfe-485b-befe-17c9278064e9",
   "metadata": {},
   "outputs": [
    {
     "name": "stdout",
     "output_type": "stream",
     "text": [
      "x=10\n"
     ]
    }
   ],
   "source": [
    "!cat /home/jovyan/.ipython/profile_default/startup/01_xtest.py"
   ]
  },
  {
   "cell_type": "code",
   "execution_count": 1,
   "id": "ceea71b6-d096-46ac-aa8f-5e76494c4485",
   "metadata": {},
   "outputs": [
    {
     "data": {
      "text/plain": [
       "10"
      ]
     },
     "execution_count": 1,
     "metadata": {},
     "output_type": "execute_result"
    }
   ],
   "source": [
    "x"
   ]
  },
  {
   "cell_type": "code",
   "execution_count": 8,
   "id": "6299eb0f-874f-4bd8-bd77-c9c941d7d456",
   "metadata": {},
   "outputs": [],
   "source": [
    "!touch ~/bab_tester"
   ]
  },
  {
   "cell_type": "code",
   "execution_count": 9,
   "id": "dc065495-4760-4e5c-9987-a07dac69b358",
   "metadata": {},
   "outputs": [
    {
     "name": "stdout",
     "output_type": "stream",
     "text": [
      "total 68\n",
      "drwsrwsr-x 1 jovyan users   4096 May  1 16:33 .\n",
      "drwxr-xr-x 1 root   root    4096 Nov  1  2021 ..\n",
      "-rw-r--r-- 1 jovyan users      0 May  1 16:33 bab_tester\n",
      "-rw-rw-r-- 1 jovyan users    220 Feb 25  2020 .bash_logout\n",
      "-rw-rw-r-- 1 jovyan users   3823 Nov  1  2021 .bashrc\n",
      "drwsrwsr-x 1 jovyan users   4096 May  1 16:26 .cache\n",
      "drwsrwsr-x 1 jovyan users   4096 Nov  1  2021 .conda\n",
      "drwsrws--- 3 jovyan users   4096 Nov  1  2021 .config\n",
      "drwxrwxrwx 9 nobody nogroup 4096 Apr 27 14:13 data\n",
      "drwxr-sr-x 2 jovyan users   4096 May  1 16:31 .ipynb_checkpoints\n",
      "drwxr-sr-x 5 jovyan users   4096 May  1 16:29 .ipython\n",
      "drwsrws--- 1 jovyan users   4096 May  1 16:27 .jupyter\n",
      "drwxr-sr-x 3 jovyan users   4096 May  1 16:26 .local\n",
      "-rw-rw-r-- 1 jovyan users    807 Feb 25  2020 .profile\n",
      "-rw-rw-r-- 1 jovyan users    227 Nov  1  2021 .wget-hsts\n",
      "drwsrwsr-x 2 jovyan users   4096 Nov  1  2021 work\n"
     ]
    }
   ],
   "source": [
    "!ls -la /home/jovyan"
   ]
  },
  {
   "cell_type": "code",
   "execution_count": 2,
   "id": "56231cc7-dcdf-46d8-be29-2b8317d440a4",
   "metadata": {},
   "outputs": [
    {
     "name": "stdout",
     "output_type": "stream",
     "text": [
      "Collecting databricks-sql-connector\n",
      "  Downloading databricks_sql_connector-2.5.1-py3-none-any.whl (279 kB)\n",
      "     |████████████████████████████████| 279 kB 11.5 MB/s            \n",
      "\u001b[?25hRequirement already satisfied: pandas<2.0.0,>=1.3.0 in /opt/conda/lib/python3.9/site-packages (from databricks-sql-connector) (1.5.0)\n",
      "Requirement already satisfied: numpy>=1.16.6 in /opt/conda/lib/python3.9/site-packages (from databricks-sql-connector) (1.23.3)\n",
      "Collecting openpyxl<4.0.0,>=3.0.10\n",
      "  Downloading openpyxl-3.1.2-py2.py3-none-any.whl (249 kB)\n",
      "     |████████████████████████████████| 249 kB 78.5 MB/s            \n",
      "\u001b[?25hCollecting pyarrow>=6.0.0\n",
      "  Downloading pyarrow-11.0.0-cp39-cp39-manylinux_2_17_x86_64.manylinux2014_x86_64.whl (34.9 MB)\n",
      "     |████████████████████████████████| 34.9 MB 69.1 MB/s            \n",
      "\u001b[?25hRequirement already satisfied: oauthlib<4.0.0,>=3.1.0 in /opt/conda/lib/python3.9/site-packages (from databricks-sql-connector) (3.1.1)\n",
      "Requirement already satisfied: requests<3.0.0,>=2.18.1 in /opt/conda/lib/python3.9/site-packages (from databricks-sql-connector) (2.26.0)\n",
      "Collecting lz4<5.0.0,>=4.0.2\n",
      "  Downloading lz4-4.3.2-cp39-cp39-manylinux_2_17_x86_64.manylinux2014_x86_64.whl (1.3 MB)\n",
      "     |████████████████████████████████| 1.3 MB 69.1 MB/s            \n",
      "\u001b[?25hCollecting thrift<0.17.0,>=0.16.0\n",
      "  Downloading thrift-0.16.0.tar.gz (59 kB)\n",
      "     |████████████████████████████████| 59 kB 7.5 MB/s             \n",
      "\u001b[?25h  Preparing metadata (setup.py) ... \u001b[?25ldone\n",
      "\u001b[?25hCollecting alembic<2.0.0,>=1.8.1\n",
      "  Downloading alembic-1.10.4-py3-none-any.whl (212 kB)\n",
      "     |████████████████████████████████| 212 kB 86.5 MB/s            \n",
      "\u001b[?25hRequirement already satisfied: sqlalchemy<2.0.0,>=1.3.24 in /opt/conda/lib/python3.9/site-packages (from databricks-sql-connector) (1.4.26)\n",
      "Requirement already satisfied: Mako in /opt/conda/lib/python3.9/site-packages (from alembic<2.0.0,>=1.8.1->databricks-sql-connector) (1.1.5)\n",
      "Collecting typing-extensions>=4\n",
      "  Downloading typing_extensions-4.5.0-py3-none-any.whl (27 kB)\n",
      "Collecting et-xmlfile\n",
      "  Downloading et_xmlfile-1.1.0-py3-none-any.whl (4.7 kB)\n",
      "Requirement already satisfied: python-dateutil>=2.8.1 in /opt/conda/lib/python3.9/site-packages (from pandas<2.0.0,>=1.3.0->databricks-sql-connector) (2.8.2)\n",
      "Requirement already satisfied: pytz>=2020.1 in /opt/conda/lib/python3.9/site-packages (from pandas<2.0.0,>=1.3.0->databricks-sql-connector) (2021.3)\n",
      "Requirement already satisfied: urllib3<1.27,>=1.21.1 in /opt/conda/lib/python3.9/site-packages (from requests<3.0.0,>=2.18.1->databricks-sql-connector) (1.26.7)\n",
      "Requirement already satisfied: charset-normalizer~=2.0.0 in /opt/conda/lib/python3.9/site-packages (from requests<3.0.0,>=2.18.1->databricks-sql-connector) (2.0.0)\n",
      "Requirement already satisfied: certifi>=2017.4.17 in /opt/conda/lib/python3.9/site-packages (from requests<3.0.0,>=2.18.1->databricks-sql-connector) (2021.10.8)\n",
      "Requirement already satisfied: idna<4,>=2.5 in /opt/conda/lib/python3.9/site-packages (from requests<3.0.0,>=2.18.1->databricks-sql-connector) (3.1)\n",
      "Requirement already satisfied: greenlet!=0.4.17 in /opt/conda/lib/python3.9/site-packages (from sqlalchemy<2.0.0,>=1.3.24->databricks-sql-connector) (1.1.2)\n",
      "Requirement already satisfied: six>=1.7.2 in /opt/conda/lib/python3.9/site-packages (from thrift<0.17.0,>=0.16.0->databricks-sql-connector) (1.16.0)\n",
      "Requirement already satisfied: MarkupSafe>=0.9.2 in /opt/conda/lib/python3.9/site-packages (from Mako->alembic<2.0.0,>=1.8.1->databricks-sql-connector) (2.0.1)\n",
      "Building wheels for collected packages: thrift\n",
      "  Building wheel for thrift (setup.py) ... \u001b[?25ldone\n",
      "\u001b[?25h  Created wheel for thrift: filename=thrift-0.16.0-py3-none-any.whl size=155973 sha256=45dbacc12c0069c7ddf668c39fdf3e31ab77058dbbad381a33e4fce1bd62df59\n",
      "  Stored in directory: /home/jovyan/.cache/pip/wheels/67/b1/a4/cf8b927fdbee8e55234f1f421b531685b960e5f23b6273cfcf\n",
      "Successfully built thrift\n",
      "Installing collected packages: typing-extensions, et-xmlfile, thrift, pyarrow, openpyxl, lz4, alembic, databricks-sql-connector\n",
      "  Attempting uninstall: alembic\n",
      "    Found existing installation: alembic 1.7.4\n",
      "    Uninstalling alembic-1.7.4:\n",
      "      Successfully uninstalled alembic-1.7.4\n",
      "Successfully installed alembic-1.10.4 databricks-sql-connector-2.5.1 et-xmlfile-1.1.0 lz4-4.3.2 openpyxl-3.1.2 pyarrow-11.0.0 thrift-0.16.0 typing-extensions-4.5.0\n",
      "Note: you may need to restart the kernel to use updated packages.\n"
     ]
    }
   ],
   "source": [
    "%pip install databricks-sql-connector"
   ]
  },
  {
   "cell_type": "code",
   "execution_count": null,
   "id": "00fd0f6f-59aa-4674-8645-d139f06f67b7",
   "metadata": {},
   "outputs": [],
   "source": []
  }
 ],
 "metadata": {
  "kernelspec": {
   "display_name": "Python 3 (ipykernel)",
   "language": "python",
   "name": "python3"
  },
  "language_info": {
   "codemirror_mode": {
    "name": "ipython",
    "version": 3
   },
   "file_extension": ".py",
   "mimetype": "text/x-python",
   "name": "python",
   "nbconvert_exporter": "python",
   "pygments_lexer": "ipython3",
   "version": "3.9.7"
  }
 },
 "nbformat": 4,
 "nbformat_minor": 5
}
