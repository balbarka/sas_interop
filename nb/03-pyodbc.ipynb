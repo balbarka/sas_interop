{
 "cells": [
  {
   "cell_type": "markdown",
   "metadata": {
    "application/vnd.databricks.v1+cell": {
     "cellMetadata": {},
     "inputWidgets": {},
     "nuid": "37c6954a-f1eb-46b4-8b68-1cdfa5c9d4ac",
     "showTitle": false,
     "title": ""
    }
   },
   "source": [
    "This is provided to try to use the existing ODBC configuaration in the data. It is not successful, still troubleshooting. Regardless when connecting from jupyter to databricks we recommend instead using databrick-sql-connect\n",
    "\n",
    "\n",
    "We will need to install the odbc Driver Manager, ODBC Driver and configure the odbc.ini file on source image used for jupyter which may take some work to figure out."
   ]
  },
  {
   "cell_type": "code",
   "execution_count": 0,
   "metadata": {
    "application/vnd.databricks.v1+cell": {
     "cellMetadata": {},
     "inputWidgets": {},
     "nuid": "1e8ddef7-a37b-4d1e-b167-8cca8ba844b0",
     "showTitle": false,
     "title": ""
    }
   },
   "outputs": [],
   "source": []
  },
  {
   "cell_type": "code",
   "execution_count": 0,
   "metadata": {
    "application/vnd.databricks.v1+cell": {
     "cellMetadata": {},
     "inputWidgets": {},
     "nuid": "eb876a21-7456-434a-893b-a2d79fdc12b7",
     "showTitle": false,
     "title": ""
    }
   },
   "outputs": [],
   "source": [
    "%pip uninstall -y pyodbc"
   ]
  },
  {
   "cell_type": "code",
   "execution_count": 0,
   "metadata": {
    "application/vnd.databricks.v1+cell": {
     "cellMetadata": {},
     "inputWidgets": {},
     "nuid": "e389fbdd-4d98-4255-8178-0b03043d2075",
     "showTitle": false,
     "title": ""
    }
   },
   "outputs": [],
   "source": [
    "%pip install pyodbc"
   ]
  },
  {
   "cell_type": "code",
   "execution_count": 0,
   "metadata": {
    "application/vnd.databricks.v1+cell": {
     "cellMetadata": {},
     "inputWidgets": {},
     "nuid": "fd028dea-6b98-49dc-94e4-02ee77450b47",
     "showTitle": false,
     "title": ""
    }
   },
   "outputs": [],
   "source": [
    "import os\n",
    "\n",
    "unixodbc_path = \"/home/jovyan/data/access-clients/odbc/unixODBC-2.3.9/bin\"\n",
    "lib_path = '/home/jovyan/data/access-clients/odbc/unixODBC-2.3.9/lib'\n",
    "paths = os.environ['PATH'].split(':')\n",
    "if unixodbc_path not in paths:\n",
    "    os.environ['PATH'] = \":\".join([unixodbc_path,lib_path, ] + paths)\n",
    "os.environ['ODBCSYSINI'] = '/home/jovyan/data/access-clients/odbc/unixODBC-2.3.9/etc'\n",
    "os.environ['ODBCINI'] = '/home/jovyan/data/access-clients/odbc/unixODBC-2.3.9/etc/jupyter_odbc.ini'\n",
    "os.environ['ODBCINSTINI'] = '/home/jovyan/data/access-clients/odbc/unixODBC-2.3.9/etc/odbcinst.ini'\n",
    "os.environ['LD_LIBRARY_PATH'] = lib_path\n",
    "os.environ['LIBPATH'] = lib_path\n",
    "os.environ['SHLIB_PATH'] = lib_path"
   ]
  },
  {
   "cell_type": "code",
   "execution_count": 0,
   "metadata": {
    "application/vnd.databricks.v1+cell": {
     "cellMetadata": {},
     "inputWidgets": {},
     "nuid": "edf4f333-ab7d-4120-8473-acc0bcb0aa55",
     "showTitle": false,
     "title": ""
    }
   },
   "outputs": [],
   "source": [
    "!odbcinst -j"
   ]
  },
  {
   "cell_type": "code",
   "execution_count": 0,
   "metadata": {
    "application/vnd.databricks.v1+cell": {
     "cellMetadata": {},
     "inputWidgets": {},
     "nuid": "21d3273e-dd44-40b2-97fa-cfc560bf9a10",
     "showTitle": false,
     "title": ""
    }
   },
   "outputs": [],
   "source": [
    "import pyodbc\n",
    "\n",
    "table_name = \"jdbc_cars\"\n",
    "\n",
    "conn = pyodbc.connect(\"DSN=Databricks_Cluster\", autocommit=True)\n",
    "\n",
    "cursor = conn.cursor()\n",
    "cursor.execute(f\"SELECT * FROM {table_name} LIMIT 2\")\n",
    "\n",
    "# Print the rows retrieved from the query.\n",
    "print(f\"Query output: SELECT * FROM {table_name} LIMIT 2\\n\")\n",
    "for row in cursor.fetchall():\n",
    "  print(row)"
   ]
  },
  {
   "cell_type": "code",
   "execution_count": 0,
   "metadata": {
    "application/vnd.databricks.v1+cell": {
     "cellMetadata": {},
     "inputWidgets": {},
     "nuid": "fd759a30-1958-4e9e-8a9d-d24a09bfdeaa",
     "showTitle": false,
     "title": ""
    }
   },
   "outputs": [],
   "source": [
    "!ls /home/jovyan/data/access-clients/odbc/simba/spark/ErrorMessages/en-US/ODBCMessages.xml"
   ]
  }
 ],
 "metadata": {
  "application/vnd.databricks.v1+notebook": {
   "dashboards": [],
   "language": "python",
   "notebookMetadata": {
    "pythonIndentUnit": 4
   },
   "notebookName": "03-pyodbc",
   "widgets": {}
  },
  "kernelspec": {
   "display_name": "Python 3 (ipykernel)",
   "language": "python",
   "name": "python3"
  },
  "language_info": {
   "codemirror_mode": {
    "name": "ipython",
    "version": 3
   },
   "file_extension": ".py",
   "mimetype": "text/x-python",
   "name": "python",
   "nbconvert_exporter": "python",
   "pygments_lexer": "ipython3",
   "version": "3.9.7"
  }
 },
 "nbformat": 4,
 "nbformat_minor": 0
}
