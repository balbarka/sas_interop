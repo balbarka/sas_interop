{
 "cells": [
  {
   "cell_type": "markdown",
   "id": "1153510e-3039-4f81-ada6-6debb970627d",
   "metadata": {},
   "source": [
    "This is provided to try to use the existing ODBC configuaration in the data. It is not successful, still troubleshooting. Regardless when connecting from jupyter to databricks we recommend instead using databrick-sql-connect\n",
    "\n",
    "\n",
    "We will need to install the odbc Driver Manager, ODBC Driver and configure the odbc.ini file on source image used for jupyter which may take some work to figure out."
   ]
  },
  {
   "cell_type": "code",
   "execution_count": null,
   "id": "a0694c94-7ea0-43bf-b1a8-b79482a64a20",
   "metadata": {},
   "outputs": [],
   "source": []
  },
  {
   "cell_type": "code",
   "execution_count": null,
   "id": "b84a2d00-63ec-4d80-bb4b-5e7a4109fbd5",
   "metadata": {},
   "outputs": [],
   "source": [
    "%pip uninstall -y pyodbc"
   ]
  },
  {
   "cell_type": "code",
   "execution_count": null,
   "id": "f7f764ed-535e-4906-9b62-1090c690fb25",
   "metadata": {},
   "outputs": [],
   "source": [
    "%pip install pyodbc"
   ]
  },
  {
   "cell_type": "code",
   "execution_count": 3,
   "id": "4de91f05-3f80-4eda-bdac-7d869ba68820",
   "metadata": {},
   "outputs": [],
   "source": [
    "import os\n",
    "\n",
    "unixodbc_path = \"/home/jovyan/data/access-clients/odbc/unixODBC-2.3.9/bin\"\n",
    "lib_path = '/home/jovyan/data/access-clients/odbc/unixODBC-2.3.9/lib'\n",
    "paths = os.environ['PATH'].split(':')\n",
    "if unixodbc_path not in paths:\n",
    "    os.environ['PATH'] = \":\".join([unixodbc_path,lib_path, ] + paths)\n",
    "os.environ['ODBCSYSINI'] = '/home/jovyan/data/access-clients/odbc/unixODBC-2.3.9/etc'\n",
    "os.environ['ODBCINI'] = '/home/jovyan/data/access-clients/odbc/unixODBC-2.3.9/etc/jupyter_odbc.ini'\n",
    "os.environ['ODBCINSTINI'] = '/home/jovyan/data/access-clients/odbc/unixODBC-2.3.9/etc/odbcinst.ini'\n",
    "os.environ['LD_LIBRARY_PATH'] = lib_path\n",
    "os.environ['LIBPATH'] = lib_path\n",
    "os.environ['SHLIB_PATH'] = lib_path"
   ]
  },
  {
   "cell_type": "code",
   "execution_count": 4,
   "id": "de43c39e-7074-4d85-b15d-986253c694c6",
   "metadata": {},
   "outputs": [
    {
     "name": "stdout",
     "output_type": "stream",
     "text": [
      "unixODBC 2.3.9\n",
      "DRIVERS............: /home/jovyan/data/access-clients/odbc/unixODBC-2.3.9/etc/\n",
      "SYSTEM DATA SOURCES: /home/jovyan/data/access-clients/odbc/unixODBC-2.3.9/etc/odbc.ini\n",
      "FILE DATA SOURCES..: /home/jovyan/data/access-clients/odbc/unixODBC-2.3.9/etc/ODBCDataSources\n",
      "USER DATA SOURCES..: /home/jovyan/data/access-clients/odbc/unixODBC-2.3.9/etc/jupyter_odbc.ini\n",
      "SQLULEN Size.......: 8\n",
      "SQLLEN Size........: 8\n",
      "SQLSETPOSIROW Size.: 8\n"
     ]
    }
   ],
   "source": [
    "!odbcinst -j"
   ]
  },
  {
   "cell_type": "code",
   "execution_count": 5,
   "id": "990933fa-d951-4ffd-a800-bee8e078fbbb",
   "metadata": {},
   "outputs": [
    {
     "ename": "ImportError",
     "evalue": "libodbc.so.2: cannot open shared object file: No such file or directory",
     "output_type": "error",
     "traceback": [
      "\u001b[0;31m---------------------------------------------------------------------------\u001b[0m",
      "\u001b[0;31mImportError\u001b[0m                               Traceback (most recent call last)",
      "\u001b[0;32m/tmp/ipykernel_108/984770355.py\u001b[0m in \u001b[0;36m<module>\u001b[0;34m\u001b[0m\n\u001b[0;32m----> 1\u001b[0;31m \u001b[0;32mimport\u001b[0m \u001b[0mpyodbc\u001b[0m\u001b[0;34m\u001b[0m\u001b[0;34m\u001b[0m\u001b[0m\n\u001b[0m\u001b[1;32m      2\u001b[0m \u001b[0;34m\u001b[0m\u001b[0m\n\u001b[1;32m      3\u001b[0m \u001b[0mtable_name\u001b[0m \u001b[0;34m=\u001b[0m \u001b[0;34m\"jdbc_cars\"\u001b[0m\u001b[0;34m\u001b[0m\u001b[0;34m\u001b[0m\u001b[0m\n\u001b[1;32m      4\u001b[0m \u001b[0;34m\u001b[0m\u001b[0m\n\u001b[1;32m      5\u001b[0m \u001b[0mconn\u001b[0m \u001b[0;34m=\u001b[0m \u001b[0mpyodbc\u001b[0m\u001b[0;34m.\u001b[0m\u001b[0mconnect\u001b[0m\u001b[0;34m(\u001b[0m\u001b[0;34m\"DSN=Databricks_Cluster\"\u001b[0m\u001b[0;34m,\u001b[0m \u001b[0mautocommit\u001b[0m\u001b[0;34m=\u001b[0m\u001b[0;32mTrue\u001b[0m\u001b[0;34m)\u001b[0m\u001b[0;34m\u001b[0m\u001b[0;34m\u001b[0m\u001b[0m\n",
      "\u001b[0;31mImportError\u001b[0m: libodbc.so.2: cannot open shared object file: No such file or directory"
     ]
    }
   ],
   "source": [
    "import pyodbc\n",
    "\n",
    "table_name = \"jdbc_cars\"\n",
    "\n",
    "conn = pyodbc.connect(\"DSN=Databricks_Cluster\", autocommit=True)\n",
    "\n",
    "cursor = conn.cursor()\n",
    "cursor.execute(f\"SELECT * FROM {table_name} LIMIT 2\")\n",
    "\n",
    "# Print the rows retrieved from the query.\n",
    "print(f\"Query output: SELECT * FROM {table_name} LIMIT 2\\n\")\n",
    "for row in cursor.fetchall():\n",
    "  print(row)"
   ]
  },
  {
   "cell_type": "code",
   "execution_count": 6,
   "id": "113878d5-daed-4513-9740-78dc7fadef4d",
   "metadata": {},
   "outputs": [
    {
     "name": "stdout",
     "output_type": "stream",
     "text": [
      "/home/jovyan/data/access-clients/odbc/simba/spark/ErrorMessages/en-US/ODBCMessages.xml\n"
     ]
    }
   ],
   "source": [
    "!ls /home/jovyan/data/access-clients/odbc/simba/spark/ErrorMessages/en-US/ODBCMessages.xml"
   ]
  }
 ],
 "metadata": {
  "kernelspec": {
   "display_name": "Python 3 (ipykernel)",
   "language": "python",
   "name": "python3"
  },
  "language_info": {
   "codemirror_mode": {
    "name": "ipython",
    "version": 3
   },
   "file_extension": ".py",
   "mimetype": "text/x-python",
   "name": "python",
   "nbconvert_exporter": "python",
   "pygments_lexer": "ipython3",
   "version": "3.9.7"
  }
 },
 "nbformat": 4,
 "nbformat_minor": 5
}
